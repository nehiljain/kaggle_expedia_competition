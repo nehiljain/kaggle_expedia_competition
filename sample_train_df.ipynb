{
 "cells": [
  {
   "cell_type": "code",
   "execution_count": 1,
   "metadata": {
    "collapsed": false
   },
   "outputs": [
    {
     "name": "stderr",
     "output_type": "stream",
     "text": [
      "A newer version of GraphLab Create (v1.10.1) is available! Your current version is v1.9.\n",
      "\n",
      "You can use pip to upgrade the graphlab-create package. For more information see https://dato.com/products/create/upgrade.\n"
     ]
    }
   ],
   "source": [
    "import graphlab as gl"
   ]
  },
  {
   "cell_type": "code",
   "execution_count": 2,
   "metadata": {
    "collapsed": false
   },
   "outputs": [
    {
     "name": "stdout",
     "output_type": "stream",
     "text": [
      "This non-commercial license of GraphLab Create is assigned to nh736060@dal.ca and will expire on April 06, 2017. For commercial licensing options, visit https://dato.com/buy/.\n"
     ]
    },
    {
     "name": "stderr",
     "output_type": "stream",
     "text": [
      "2016-06-10 23:47:38,327 [INFO] graphlab.cython.cy_server, 176: GraphLab Create v1.9 started. Logging: /tmp/graphlab_server_1465613256.log\n"
     ]
    },
    {
     "data": {
      "text/html": [
       "<pre>Finished parsing file /Users/nehiljain/code/personal/expedia_kaggle/train.csv</pre>"
      ],
      "text/plain": [
       "Finished parsing file /Users/nehiljain/code/personal/expedia_kaggle/train.csv"
      ]
     },
     "metadata": {},
     "output_type": "display_data"
    },
    {
     "data": {
      "text/html": [
       "<pre>Parsing completed. Parsed 100 lines in 1.43087 secs.</pre>"
      ],
      "text/plain": [
       "Parsing completed. Parsed 100 lines in 1.43087 secs."
      ]
     },
     "metadata": {},
     "output_type": "display_data"
    },
    {
     "name": "stdout",
     "output_type": "stream",
     "text": [
      "------------------------------------------------------\n",
      "Inferred types from first 100 line(s) of file as \n",
      "column_type_hints=[str,int,int,int,int,int,float,int,int,int,int,str,str,int,int,int,int,int,int,int,int,int,int,int]\n",
      "If parsing fails due to incorrect types, you can correct\n",
      "the inferred type list above and pass it to read_csv in\n",
      "the column_type_hints argument\n",
      "------------------------------------------------------\n"
     ]
    },
    {
     "data": {
      "text/html": [
       "<pre>Read 485475 lines. Lines per second: 221888</pre>"
      ],
      "text/plain": [
       "Read 485475 lines. Lines per second: 221888"
      ]
     },
     "metadata": {},
     "output_type": "display_data"
    },
    {
     "data": {
      "text/html": [
       "<pre>Read 2912093 lines. Lines per second: 398107</pre>"
      ],
      "text/plain": [
       "Read 2912093 lines. Lines per second: 398107"
      ]
     },
     "metadata": {},
     "output_type": "display_data"
    },
    {
     "data": {
      "text/html": [
       "<pre>Read 4853100 lines. Lines per second: 393487</pre>"
      ],
      "text/plain": [
       "Read 4853100 lines. Lines per second: 393487"
      ]
     },
     "metadata": {},
     "output_type": "display_data"
    },
    {
     "data": {
      "text/html": [
       "<pre>Read 7278890 lines. Lines per second: 395319</pre>"
      ],
      "text/plain": [
       "Read 7278890 lines. Lines per second: 395319"
      ]
     },
     "metadata": {},
     "output_type": "display_data"
    },
    {
     "data": {
      "text/html": [
       "<pre>Read 9705333 lines. Lines per second: 405964</pre>"
      ],
      "text/plain": [
       "Read 9705333 lines. Lines per second: 405964"
      ]
     },
     "metadata": {},
     "output_type": "display_data"
    },
    {
     "data": {
      "text/html": [
       "<pre>Read 12132150 lines. Lines per second: 411279</pre>"
      ],
      "text/plain": [
       "Read 12132150 lines. Lines per second: 411279"
      ]
     },
     "metadata": {},
     "output_type": "display_data"
    },
    {
     "data": {
      "text/html": [
       "<pre>Read 14558745 lines. Lines per second: 420752</pre>"
      ],
      "text/plain": [
       "Read 14558745 lines. Lines per second: 420752"
      ]
     },
     "metadata": {},
     "output_type": "display_data"
    },
    {
     "data": {
      "text/html": [
       "<pre>Read 16984947 lines. Lines per second: 424118</pre>"
      ],
      "text/plain": [
       "Read 16984947 lines. Lines per second: 424118"
      ]
     },
     "metadata": {},
     "output_type": "display_data"
    },
    {
     "data": {
      "text/html": [
       "<pre>Read 19409855 lines. Lines per second: 429584</pre>"
      ],
      "text/plain": [
       "Read 19409855 lines. Lines per second: 429584"
      ]
     },
     "metadata": {},
     "output_type": "display_data"
    },
    {
     "data": {
      "text/html": [
       "<pre>Read 21835498 lines. Lines per second: 429100</pre>"
      ],
      "text/plain": [
       "Read 21835498 lines. Lines per second: 429100"
      ]
     },
     "metadata": {},
     "output_type": "display_data"
    },
    {
     "data": {
      "text/html": [
       "<pre>Read 23776992 lines. Lines per second: 417902</pre>"
      ],
      "text/plain": [
       "Read 23776992 lines. Lines per second: 417902"
      ]
     },
     "metadata": {},
     "output_type": "display_data"
    },
    {
     "data": {
      "text/html": [
       "<pre>Read 25718950 lines. Lines per second: 406850</pre>"
      ],
      "text/plain": [
       "Read 25718950 lines. Lines per second: 406850"
      ]
     },
     "metadata": {},
     "output_type": "display_data"
    },
    {
     "data": {
      "text/html": [
       "<pre>Read 27660092 lines. Lines per second: 403673</pre>"
      ],
      "text/plain": [
       "Read 27660092 lines. Lines per second: 403673"
      ]
     },
     "metadata": {},
     "output_type": "display_data"
    },
    {
     "data": {
      "text/html": [
       "<pre>Read 30085616 lines. Lines per second: 405848</pre>"
      ],
      "text/plain": [
       "Read 30085616 lines. Lines per second: 405848"
      ]
     },
     "metadata": {},
     "output_type": "display_data"
    },
    {
     "data": {
      "text/html": [
       "<pre>Read 32025242 lines. Lines per second: 404142</pre>"
      ],
      "text/plain": [
       "Read 32025242 lines. Lines per second: 404142"
      ]
     },
     "metadata": {},
     "output_type": "display_data"
    },
    {
     "data": {
      "text/html": [
       "<pre>Read 34450520 lines. Lines per second: 408574</pre>"
      ],
      "text/plain": [
       "Read 34450520 lines. Lines per second: 408574"
      ]
     },
     "metadata": {},
     "output_type": "display_data"
    },
    {
     "data": {
      "text/html": [
       "<pre>Read 36875830 lines. Lines per second: 409720</pre>"
      ],
      "text/plain": [
       "Read 36875830 lines. Lines per second: 409720"
      ]
     },
     "metadata": {},
     "output_type": "display_data"
    },
    {
     "data": {
      "text/html": [
       "<pre>Finished parsing file /Users/nehiljain/code/personal/expedia_kaggle/train.csv</pre>"
      ],
      "text/plain": [
       "Finished parsing file /Users/nehiljain/code/personal/expedia_kaggle/train.csv"
      ]
     },
     "metadata": {},
     "output_type": "display_data"
    },
    {
     "data": {
      "text/html": [
       "<pre>Parsing completed. Parsed 37670293 lines in 91.9516 secs.</pre>"
      ],
      "text/plain": [
       "Parsing completed. Parsed 37670293 lines in 91.9516 secs."
      ]
     },
     "metadata": {},
     "output_type": "display_data"
    }
   ],
   "source": [
    "# train_df = gl.SFrame.read_csv('./train.csv')"
   ]
  },
  {
   "cell_type": "code",
   "execution_count": 3,
   "metadata": {
    "collapsed": true
   },
   "outputs": [],
   "source": [
    "train_df.load('./gl_train_data')"
   ]
  },
  {
   "cell_type": "code",
   "execution_count": 4,
   "metadata": {
    "collapsed": false
   },
   "outputs": [
    {
     "name": "stdout",
     "output_type": "stream",
     "text": [
      "Canvas is accessible via web browser at the URL: http://localhost:56220/index.html\n",
      "Opening Canvas in default web browser.\n"
     ]
    }
   ],
   "source": [
    "# train_df.show()"
   ]
  },
  {
   "cell_type": "code",
   "execution_count": 5,
   "metadata": {
    "collapsed": true
   },
   "outputs": [],
   "source": [
    "import feather"
   ]
  },
  {
   "cell_type": "code",
   "execution_count": 6,
   "metadata": {
    "collapsed": false
   },
   "outputs": [],
   "source": [
    "user_ids = feather.read_dataframe('./sample_user_id.feather')"
   ]
  },
  {
   "cell_type": "code",
   "execution_count": 8,
   "metadata": {
    "collapsed": false
   },
   "outputs": [
    {
     "data": {
      "text/plain": [
       "(10000, 1)"
      ]
     },
     "execution_count": 8,
     "metadata": {},
     "output_type": "execute_result"
    }
   ],
   "source": [
    "user_ids.shape"
   ]
  },
  {
   "cell_type": "code",
   "execution_count": 9,
   "metadata": {
    "collapsed": true
   },
   "outputs": [],
   "source": [
    "sub_train_df = train_df.filter_by(user_ids['sample_user_id'], 'user_id')"
   ]
  },
  {
   "cell_type": "code",
   "execution_count": 14,
   "metadata": {
    "collapsed": false
   },
   "outputs": [],
   "source": [
    "sub_train_df.shape\n",
    "sub_train_df = sub_train_df.to_dataframe() "
   ]
  },
  {
   "cell_type": "code",
   "execution_count": 15,
   "metadata": {
    "collapsed": false
   },
   "outputs": [],
   "source": [
    "feather.write_dataframe(sub_train_df, './sub_train_df.feather')"
   ]
  },
  {
   "cell_type": "code",
   "execution_count": null,
   "metadata": {
    "collapsed": true
   },
   "outputs": [],
   "source": []
  }
 ],
 "metadata": {
  "kernelspec": {
   "display_name": "Python 2",
   "language": "python",
   "name": "python2"
  },
  "language_info": {
   "codemirror_mode": {
    "name": "ipython",
    "version": 2
   },
   "file_extension": ".py",
   "mimetype": "text/x-python",
   "name": "python",
   "nbconvert_exporter": "python",
   "pygments_lexer": "ipython2",
   "version": "2.7.11"
  }
 },
 "nbformat": 4,
 "nbformat_minor": 0
}
